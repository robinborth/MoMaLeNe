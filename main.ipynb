{
 "cells": [
  {
   "cell_type": "markdown",
   "metadata": {},
   "source": [
    "# Simulation Settings\n",
    "Define the settings for the MoMaLeNe fluid simulation."
   ]
  },
  {
   "cell_type": "code",
   "execution_count": 3,
   "metadata": {},
   "outputs": [
    {
     "name": "stderr",
     "output_type": "stream",
     "text": [
      "100%|██████████| 500/500 [00:04<00:00, 123.59it/s]\n"
     ]
    },
    {
     "name": "stdout",
     "output_type": "stream",
     "text": [
      "\n",
      "+-----------+---------+---------+---------+---------+-------+-------+----------+\n",
      "| task_name |    mean |     min |     max |  median |   std | steps |    total |\n",
      "+-----------+---------+---------+---------+---------+-------+-------+----------+\n",
      "| simulator |   0.096 |   0.077 |   0.834 |   0.089 | 0.047 |   500 |   48.106 |\n",
      "|  renderer |   4.849 |   4.251 |  31.123 |   4.467 | 1.741 |   500 | 2424.744 |\n",
      "|    frames |   3.101 |   2.796 |   27.86 |   3.021 | 1.148 |   500 | 1550.417 |\n",
      "|     video | 2894.69 | 2894.69 | 2894.69 | 2894.69 |   0.0 |     1 |  2894.69 |\n",
      "+-----------+---------+---------+---------+---------+-------+-------+----------+\n"
     ]
    },
    {
     "data": {
      "text/html": [
       "<video src=\"/Users/robinborth/Code/MoMaLeNe/videos/2024-09-29_11-28-35/video.mp4\" controls  >\n",
       "      Your browser does not support the <code>video</code> element.\n",
       "    </video>"
      ],
      "text/plain": [
       "<IPython.core.display.Video object>"
      ]
     },
     "metadata": {},
     "output_type": "display_data"
    }
   ],
   "source": [
    "from PIL import Image\n",
    "from lib.simulator import Simulator\n",
    "from lib.renderer import Renderer\n",
    "from lib.video import create_video\n",
    "from tqdm import tqdm\n",
    "from pathlib import Path\n",
    "from datetime import datetime\n",
    "from lib.timer import TimeTracker\n",
    "from IPython.display import Video\n",
    "\n",
    "# Rendering Settings\n",
    "width = 300\n",
    "height = 300\n",
    "fps = 60\n",
    "total_frames = 500\n",
    "\n",
    "# Simulator Settings\n",
    "grid_size = 8\n",
    "num_particles = grid_size * grid_size\n",
    "gravity = 3e-04\n",
    "border = 1.0 \n",
    "damping_factor = 0.8\n",
    "\n",
    "# Data Settings\n",
    "timestamp = datetime.now().strftime('%Y-%m-%d_%H-%M-%S')\n",
    "root_dir = Path.cwd()\n",
    "simulation_dir = root_dir / \"videos\"\n",
    "video_dir = simulation_dir / timestamp \n",
    "video_path = video_dir / \"video.mp4\"\n",
    "frame_dir = video_dir / \"frames\"\n",
    "\n",
    "# Debug Settings\n",
    "verbose = True\n",
    "\n",
    "# Track timings for the simulation and the renderer\n",
    "time_tracker = TimeTracker()\n",
    "\n",
    "# Create the Simulator\n",
    "simulator = Simulator(\n",
    "    num_particles=num_particles,\n",
    "    gravity=gravity,\n",
    "    border=border,\n",
    "    damping_factor=damping_factor,\n",
    ")\n",
    "# Create the Renderer\n",
    "renderer = Renderer(\n",
    "    width=width,\n",
    "    height=height,\n",
    ")\n",
    "\n",
    "# Precompute all the frames and store them to disk\n",
    "for frame_idx in tqdm(range(total_frames)):\n",
    "    time_tracker.start(\"simulator\")\n",
    "    state = simulator.step()\n",
    "    time_tracker.start(\"renderer\", stop=True)\n",
    "    image = renderer.render(state=state)\n",
    "    time_tracker.start(\"frames\", stop=True)\n",
    "    path = frame_dir / f\"{frame_idx:05}.png\"\n",
    "    path.parent.mkdir(exist_ok=True, parents=True)\n",
    "    Image.fromarray(image).save(path)\n",
    "    time_tracker.stop(\"frames\")\n",
    "\n",
    "# Create video from precomputed frames and stores the result\n",
    "time_tracker.start(\"video\")\n",
    "create_video(\n",
    "    video_dir=frame_dir,\n",
    "    video_path=video_path,\n",
    "    framerate=fps,\n",
    ")\n",
    "time_tracker.stop(\"video\")\n",
    "\n",
    "if verbose:\n",
    "    print(time_tracker.summary())\n",
    "\n",
    "# Play the video in jupyter notebook\n",
    "display(Video(video_path))"
   ]
  }
 ],
 "metadata": {
  "kernelspec": {
   "display_name": "momalene",
   "language": "python",
   "name": "python3"
  },
  "language_info": {
   "codemirror_mode": {
    "name": "ipython",
    "version": 3
   },
   "file_extension": ".py",
   "mimetype": "text/x-python",
   "name": "python",
   "nbconvert_exporter": "python",
   "pygments_lexer": "ipython3",
   "version": "3.10.14"
  }
 },
 "nbformat": 4,
 "nbformat_minor": 2
}
